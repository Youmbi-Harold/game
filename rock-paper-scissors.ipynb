{
 "cells": [
  {
   "cell_type": "code",
   "execution_count": 20,
   "id": "3f3bf542",
   "metadata": {},
   "outputs": [
    {
     "name": "stdout",
     "output_type": "stream",
     "text": [
      "What do you chose?Please enter 0 for rock, 1 for paper or 2 for scissors :\t2\n",
      "\n",
      "    _______\n",
      "---'   ____)____\n",
      "          ______)\n",
      "       __________)\n",
      "      (____)\n",
      "---.__(___)\n",
      "\n",
      "Computer chose:\n",
      "\n",
      "    _______\n",
      "---'   ____)\n",
      "      (_____)\n",
      "      (_____)\n",
      "      (____)\n",
      "---.__(___)\n",
      "\n",
      "You Losed\n"
     ]
    }
   ],
   "source": [
    "import random #importing library\n",
    "rock = '''\n",
    "    _______\n",
    "---'   ____)\n",
    "      (_____)\n",
    "      (_____)\n",
    "      (____)\n",
    "---.__(___)\n",
    "'''\n",
    "\n",
    "paper = '''\n",
    "    _______\n",
    "---'   ____)____\n",
    "          ______)\n",
    "          _______)\n",
    "         _______)\n",
    "---.__________)\n",
    "'''\n",
    "\n",
    "scissors = '''\n",
    "    _______\n",
    "---'   ____)____\n",
    "          ______)\n",
    "       __________)\n",
    "      (____)\n",
    "---.__(___)\n",
    "'''\n",
    "\n",
    "listof_choices = [rock, paper, scissors]#creating a list of those ASCII codes\n",
    "user_choice = int(input(\"What do you chose?Please enter 0 for rock, 1 for paper or 2 for scissors :\\t\"))#prompting a user for his input(string) that would be converted into int\n",
    "if user_choice >= 3 or user_choice < 0:#Test condition to stop the program once an out of index value is type, else its gonna fault the game\n",
    "    print(\"You typed an invalid choice, YOU LOSE!\")\n",
    "else:\n",
    "    print(listof_choices[user_choice])#printing the users choice correspondence on the list, listof_choices\n",
    "computer_choice = random.randint(0, 2)#using random to make computer chose her own correspondence\n",
    "print(\"Computer chose:\")\n",
    "print(listof_choices[computer_choice])#printing\n",
    "\n",
    "\n",
    "if user_choice == computer_choice:\n",
    "    print(\"Draw, Please play again\")\n",
    "elif user_choice == 0 and computer_choice == 2 :\n",
    "    print(\"You Losed\")\n",
    "elif user_choice == 2 and computer_choice == 0 :\n",
    "    print(\"You Losed\")\n",
    "elif user_choice < computer_choice :\n",
    "    print(\"You Losed\")\n",
    "elif user_choice > computer_choice :\n",
    "    print(\"You Win\")\n",
    "    #Applying if-else statements so that it suits the game rules\n",
    "\n",
    "    \n",
    "    \n",
    "\n",
    "\n",
    "\n"
   ]
  },
  {
   "cell_type": "code",
   "execution_count": null,
   "id": "b3ef1588",
   "metadata": {},
   "outputs": [],
   "source": []
  },
  {
   "cell_type": "code",
   "execution_count": null,
   "id": "ada06e97",
   "metadata": {},
   "outputs": [],
   "source": []
  }
 ],
 "metadata": {
  "kernelspec": {
   "display_name": "Python 3 (ipykernel)",
   "language": "python",
   "name": "python3"
  },
  "language_info": {
   "codemirror_mode": {
    "name": "ipython",
    "version": 3
   },
   "file_extension": ".py",
   "mimetype": "text/x-python",
   "name": "python",
   "nbconvert_exporter": "python",
   "pygments_lexer": "ipython3",
   "version": "3.8.5"
  }
 },
 "nbformat": 4,
 "nbformat_minor": 5
}
